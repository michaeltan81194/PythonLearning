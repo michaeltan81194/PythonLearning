{
 "cells": [
  {
   "cell_type": "code",
   "execution_count": 2,
   "id": "36eb7e76-3936-469c-95d9-bc8072f2a4bf",
   "metadata": {},
   "outputs": [],
   "source": [
    "#1. Create MySQL API\n",
    "import mysql.connector as connector"
   ]
  },
  {
   "cell_type": "code",
   "execution_count": 75,
   "id": "0c487212-4854-4d07-899d-c9742b8cf85d",
   "metadata": {},
   "outputs": [],
   "source": [
    "#2. Create connection between MySQL and Python\n",
    "connection = connector.connect(user='root', password = 'Norica0789')"
   ]
  },
  {
   "cell_type": "code",
   "execution_count": 72,
   "id": "954f9706-71ec-42e6-8a02-931eb20f7a03",
   "metadata": {},
   "outputs": [],
   "source": [
    "#3.1 Create raw cursor\n",
    "raw_cursor = connection.cursor(raw = True)"
   ]
  },
  {
   "cell_type": "code",
   "execution_count": 65,
   "id": "8a503525-f509-44a0-82bb-4ff981898b6b",
   "metadata": {},
   "outputs": [],
   "source": [
    "#3.2 Create dict cursor\n",
    "dict_cursor = connection.cursor(dictionary = True)"
   ]
  },
  {
   "cell_type": "code",
   "execution_count": 76,
   "id": "d6c5052f-ae9a-4a34-b2cc-92417c75eb15",
   "metadata": {},
   "outputs": [],
   "source": [
    "#3.3 Create buffered cursor\n",
    "buffered_cursor = connection.cursor(buffered = True)"
   ]
  },
  {
   "cell_type": "code",
   "execution_count": 7,
   "id": "cc96e235-46d9-44cf-b9ef-ac86cf5fab6f",
   "metadata": {},
   "outputs": [
    {
     "name": "stdout",
     "output_type": "stream",
     "text": [
      "The DB Little Lemon has been created!\n"
     ]
    }
   ],
   "source": [
    "#4. Create Little Lemon DB (with Raw Cursor)\n",
    "try:\n",
    "    raw_cursor.execute(\"CREATE DATABASE littlelemon\")\n",
    "except:\n",
    "    raw_cursor.execute(\"DROP DATABASE littlelemon\")\n",
    "    raw_cursor.execute(\"CREATE DATABASE littlelemon\")\n",
    "print(\"The DB Little Lemon has been created!\")"
   ]
  },
  {
   "cell_type": "code",
   "execution_count": 77,
   "id": "29e03d6f-497e-476d-96b7-2aeb9947fc91",
   "metadata": {},
   "outputs": [],
   "source": [
    "#5. Use Little Lemon\n",
    "buffered_cursor.execute(\"USE littlelemon\")"
   ]
  },
  {
   "cell_type": "code",
   "execution_count": 9,
   "id": "c0cdf303-39ee-43aa-9694-0098b60229a3",
   "metadata": {},
   "outputs": [
    {
     "data": {
      "text/plain": [
       "'littlelemon'"
      ]
     },
     "execution_count": 9,
     "metadata": {},
     "output_type": "execute_result"
    }
   ],
   "source": [
    "#6. Check the DB is in progress\n",
    "connection.database"
   ]
  },
  {
   "cell_type": "code",
   "execution_count": 10,
   "id": "f09ec7e4-1850-4c2d-ae84-3ee6acc1aa15",
   "metadata": {},
   "outputs": [],
   "source": [
    "#7. Create table\n",
    "create_menuitem_table=\"\"\"\n",
    "CREATE TABLE MenuItems (\n",
    "ItemID INT AUTO_INCREMENT,\n",
    "Name VARCHAR(200),\n",
    "Type VARCHAR(100),\n",
    "Price INT,\n",
    "PRIMARY KEY (ItemID)\n",
    ");\"\"\""
   ]
  },
  {
   "cell_type": "code",
   "execution_count": 11,
   "id": "cecd3520-48f0-4615-bf43-91b5625a899a",
   "metadata": {},
   "outputs": [
    {
     "name": "stdout",
     "output_type": "stream",
     "text": [
      "MenuItmes table is created.\n",
      "\n"
     ]
    }
   ],
   "source": [
    "raw_cursor.execute(create_menuitem_table)\n",
    "print(\"MenuItmes table is created.\\n\")"
   ]
  },
  {
   "cell_type": "code",
   "execution_count": 12,
   "id": "0bb8f97e-4a4e-4577-9d00-c137016d20c8",
   "metadata": {},
   "outputs": [],
   "source": [
    "create_menu_table=\"\"\"\n",
    "CREATE TABLE Menus (\n",
    "MenuID INT,\n",
    "ItemID INT,\n",
    "Cuisine VARCHAR(100),\n",
    "PRIMARY KEY (MenuID,ItemID)\n",
    ");\"\"\""
   ]
  },
  {
   "cell_type": "code",
   "execution_count": 13,
   "id": "8dc4a261-31eb-4d57-b425-cc0fb29ca494",
   "metadata": {},
   "outputs": [
    {
     "name": "stdout",
     "output_type": "stream",
     "text": [
      "Menu table is created.\n",
      "\n"
     ]
    }
   ],
   "source": [
    "raw_cursor.execute(create_menu_table)\n",
    "print(\"Menu table is created.\\n\")"
   ]
  },
  {
   "cell_type": "code",
   "execution_count": 14,
   "id": "6ff1e1a0-c950-4933-b1b3-503dfe9c6321",
   "metadata": {},
   "outputs": [],
   "source": [
    "create_booking_table=\"\"\"\n",
    "CREATE TABLE Bookings (\n",
    "BookingID INT AUTO_INCREMENT,\n",
    "TableNo INT,\n",
    "GuestFirstName VARCHAR(100) NOT NULL,\n",
    "GuestLastName VARCHAR(100) NOT NULL,\n",
    "BookingSlot TIME NOT NULL,\n",
    "EmployeeID INT,\n",
    "PRIMARY KEY (BookingID)\n",
    ");\"\"\""
   ]
  },
  {
   "cell_type": "code",
   "execution_count": 16,
   "id": "ab890972-c68f-4b9d-9a19-cb88d39b1c74",
   "metadata": {},
   "outputs": [
    {
     "name": "stdout",
     "output_type": "stream",
     "text": [
      "Bookings table is created.\n",
      "\n"
     ]
    }
   ],
   "source": [
    "raw_cursor.execute(create_booking_table)\n",
    "print(\"Bookings table is created.\\n\")"
   ]
  },
  {
   "cell_type": "code",
   "execution_count": 17,
   "id": "b811f67f-ba60-42e9-8012-1623a1dfac3b",
   "metadata": {},
   "outputs": [],
   "source": [
    "create_orders_table=\"\"\"\n",
    "CREATE TABLE Orders (\n",
    "OrderID INT,\n",
    "TableNo INT,\n",
    "MenuID INT,\n",
    "BookingID INT,\n",
    "BillAmount INT,\n",
    "Quantity INT,\n",
    "PRIMARY KEY (OrderID,TableNo)\n",
    ");\"\"\""
   ]
  },
  {
   "cell_type": "code",
   "execution_count": 18,
   "id": "58c105aa-1999-4e3a-8b54-8b74c18a0809",
   "metadata": {},
   "outputs": [
    {
     "name": "stdout",
     "output_type": "stream",
     "text": [
      "Orders table is created.\n",
      "\n"
     ]
    }
   ],
   "source": [
    "raw_cursor.execute(create_orders_table)\n",
    "print(\"Orders table is created.\\n\")"
   ]
  },
  {
   "cell_type": "code",
   "execution_count": 69,
   "id": "f1b294e2-95cf-4a93-a93a-5de32eee6eff",
   "metadata": {},
   "outputs": [
    {
     "name": "stdout",
     "output_type": "stream",
     "text": [
      "Following tables are created in the little_lemon database.\n",
      "\n"
     ]
    }
   ],
   "source": [
    "print(\"Following tables are created in the little_lemon database.\\n\")\n",
    "dict_cursor.execute(\"SHOW TABLES\") #Result stored at step 1\n"
   ]
  },
  {
   "cell_type": "code",
   "execution_count": 70,
   "id": "1e5ffad6-1042-4e26-92e9-d656f458ed94",
   "metadata": {},
   "outputs": [
    {
     "data": {
      "text/plain": [
       "[{'Tables_in_littlelemon': 'Bookings'},\n",
       " {'Tables_in_littlelemon': 'MenuItems'},\n",
       " {'Tables_in_littlelemon': 'Menus'},\n",
       " {'Tables_in_littlelemon': 'Orders'}]"
      ]
     },
     "execution_count": 70,
     "metadata": {},
     "output_type": "execute_result"
    }
   ],
   "source": [
    "#This is the result fetched from step 1 above\n",
    "#Dict Cursor\n",
    "result = dict_cursor.fetchall() \n",
    "result"
   ]
  },
  {
   "cell_type": "code",
   "execution_count": 74,
   "id": "235a9bf2-e9e8-44ba-bc8a-88001c82b6c4",
   "metadata": {},
   "outputs": [
    {
     "data": {
      "text/plain": [
       "[(bytearray(b'Bookings'),),\n",
       " (bytearray(b'MenuItems'),),\n",
       " (bytearray(b'Menus'),),\n",
       " (bytearray(b'Orders'),)]"
      ]
     },
     "execution_count": 74,
     "metadata": {},
     "output_type": "execute_result"
    }
   ],
   "source": [
    "#This is the result fetched from step 1 above\n",
    "#Raw Cursor\n",
    "raw_cursor.execute(\"SHOW TABLES\") #Step 1\n",
    "result = raw_cursor.fetchall() \n",
    "result"
   ]
  },
  {
   "cell_type": "code",
   "execution_count": 78,
   "id": "21f17b4c-b8b1-4a58-9259-0214e701070d",
   "metadata": {},
   "outputs": [
    {
     "data": {
      "text/plain": [
       "[('Bookings',), ('MenuItems',), ('Menus',), ('Orders',)]"
      ]
     },
     "execution_count": 78,
     "metadata": {},
     "output_type": "execute_result"
    }
   ],
   "source": [
    "#This is the result fetched from step 1 above\n",
    "#Buffered Cursor\n",
    "buffered_cursor.execute(\"SHOW TABLES\") #Step 1\n",
    "result = buffered_cursor.fetchall() \n",
    "result"
   ]
  },
  {
   "cell_type": "code",
   "execution_count": null,
   "id": "13c4ca05-c423-4f1b-98bb-9353a1f3c850",
   "metadata": {},
   "outputs": [],
   "source": [
    "#8. Examine Query Data \n",
    "dict_cursor.execute("
   ]
  }
 ],
 "metadata": {
  "kernelspec": {
   "display_name": "Python 3 (ipykernel)",
   "language": "python",
   "name": "python3"
  },
  "language_info": {
   "codemirror_mode": {
    "name": "ipython",
    "version": 3
   },
   "file_extension": ".py",
   "mimetype": "text/x-python",
   "name": "python",
   "nbconvert_exporter": "python",
   "pygments_lexer": "ipython3",
   "version": "3.9.12"
  }
 },
 "nbformat": 4,
 "nbformat_minor": 5
}
